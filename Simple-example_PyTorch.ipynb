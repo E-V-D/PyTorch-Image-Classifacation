{
 "cells": [
  {
   "cell_type": "code",
   "execution_count": 1,
   "id": "907c6c0c",
   "metadata": {},
   "outputs": [],
   "source": [
    "import torch\n",
    "import torchvision"
   ]
  },
  {
   "cell_type": "code",
   "execution_count": 2,
   "id": "59437f6a",
   "metadata": {},
   "outputs": [],
   "source": [
    "train_data = torchvision.datasets.FashionMNIST(\n",
    "root='data',\n",
    "train=True, \n",
    "download=True,\n",
    "transform=torchvision.transforms.ToTensor(),\n",
    "target_transform=None)"
   ]
  },
  {
   "cell_type": "code",
   "execution_count": 3,
   "id": "7eb08323",
   "metadata": {},
   "outputs": [],
   "source": [
    "test_data = torchvision.datasets.FashionMNIST(\n",
    "root='data',\n",
    "train=False, \n",
    "download=True,\n",
    "transform=torchvision.transforms.ToTensor(),\n",
    "target_transform=None)"
   ]
  },
  {
   "cell_type": "code",
   "execution_count": 4,
   "id": "ea79d84a",
   "metadata": {},
   "outputs": [
    {
     "data": {
      "text/plain": [
       "60000"
      ]
     },
     "execution_count": 4,
     "metadata": {},
     "output_type": "execute_result"
    }
   ],
   "source": [
    "len(train_data)"
   ]
  },
  {
   "cell_type": "code",
   "execution_count": 5,
   "id": "452acbda",
   "metadata": {},
   "outputs": [
    {
     "data": {
      "text/plain": [
       "10000"
      ]
     },
     "execution_count": 5,
     "metadata": {},
     "output_type": "execute_result"
    }
   ],
   "source": [
    "len(test_data)"
   ]
  },
  {
   "cell_type": "code",
   "execution_count": 6,
   "id": "01f7424c",
   "metadata": {},
   "outputs": [],
   "source": [
    "image, label = train_data[0]"
   ]
  },
  {
   "cell_type": "code",
   "execution_count": 7,
   "id": "16e12388",
   "metadata": {},
   "outputs": [
    {
     "data": {
      "text/plain": [
       "torch.Size([1, 28, 28])"
      ]
     },
     "execution_count": 7,
     "metadata": {},
     "output_type": "execute_result"
    }
   ],
   "source": [
    "image.shape"
   ]
  },
  {
   "cell_type": "code",
   "execution_count": 8,
   "id": "f2fee4b1",
   "metadata": {},
   "outputs": [
    {
     "data": {
      "text/plain": [
       "9"
      ]
     },
     "execution_count": 8,
     "metadata": {},
     "output_type": "execute_result"
    }
   ],
   "source": [
    "label"
   ]
  },
  {
   "cell_type": "code",
   "execution_count": 9,
   "id": "82f7b902",
   "metadata": {},
   "outputs": [
    {
     "data": {
      "text/plain": [
       "['T-shirt/top',\n",
       " 'Trouser',\n",
       " 'Pullover',\n",
       " 'Dress',\n",
       " 'Coat',\n",
       " 'Sandal',\n",
       " 'Shirt',\n",
       " 'Sneaker',\n",
       " 'Bag',\n",
       " 'Ankle boot']"
      ]
     },
     "execution_count": 9,
     "metadata": {},
     "output_type": "execute_result"
    }
   ],
   "source": [
    "class_names = train_data.classes\n",
    "class_names"
   ]
  },
  {
   "cell_type": "code",
   "execution_count": 10,
   "id": "5e91f510",
   "metadata": {},
   "outputs": [
    {
     "data": {
      "text/plain": [
       "tensor([9, 0, 0,  ..., 3, 0, 5])"
      ]
     },
     "execution_count": 10,
     "metadata": {},
     "output_type": "execute_result"
    }
   ],
   "source": [
    "train_data.targets"
   ]
  },
  {
   "cell_type": "code",
   "execution_count": 11,
   "id": "d0a38735",
   "metadata": {},
   "outputs": [],
   "source": [
    "import matplotlib.pyplot as plt"
   ]
  },
  {
   "cell_type": "code",
   "execution_count": 12,
   "id": "c67a97bc",
   "metadata": {},
   "outputs": [
    {
     "data": {
      "image/png": "[encoded data removed]",
      "text/plain": [
       "<Figure size 432x288 with 1 Axes>"
      ]
     },
     "metadata": {
      "needs_background": "light"
     },
     "output_type": "display_data"
    }
   ],
   "source": [
    "plt.imshow(image.squeeze(), cmap='gray')\n",
    "plt.title(class_names[label]);"
   ]
  },
  {
   "cell_type": "code",
   "execution_count": 13,
   "id": "f4b0b329",
   "metadata": {},
   "outputs": [],
   "source": [
    "image, label = train_data[7]"
   ]
  },
  {
   "cell_type": "code",
   "execution_count": 14,
   "id": "2f8f7485",
   "metadata": {},
   "outputs": [
    {
     "data": {
      "image/png": "[encoded data removed]",
      "text/plain": [
       "<Figure size 432x288 with 1 Axes>"
      ]
     },
     "metadata": {
      "needs_background": "light"
     },
     "output_type": "display_data"
    }
   ],
   "source": [
    "plt.imshow(image.squeeze(), cmap='gray')\n",
    "plt.title(class_names[label]);"
   ]
  },
  {
   "cell_type": "code",
   "execution_count": 15,
   "id": "05f2c107",
   "metadata": {},
   "outputs": [],
   "source": [
    "from torch.utils.data import DataLoader"
   ]
  },
  {
   "cell_type": "code",
   "execution_count": 16,
   "id": "a4ce7e81",
   "metadata": {},
   "outputs": [],
   "source": [
    "batch_size = 32\n",
    "\n",
    "train_DL = DataLoader(dataset=train_data, \n",
    "                     batch_size=batch_size,\n",
    "                     shuffle=True)\n",
    "test_DL = DataLoader(dataset=test_data, \n",
    "                     batch_size=batch_size,\n",
    "                     shuffle=False)"
   ]
  },
  {
   "cell_type": "code",
   "execution_count": 17,
   "id": "f0f2dd78",
   "metadata": {},
   "outputs": [
    {
     "data": {
      "text/plain": [
       "1875"
      ]
     },
     "execution_count": 17,
     "metadata": {},
     "output_type": "execute_result"
    }
   ],
   "source": [
    "len(train_DL)"
   ]
  },
  {
   "cell_type": "code",
   "execution_count": 18,
   "id": "81bf0392",
   "metadata": {},
   "outputs": [
    {
     "data": {
      "text/plain": [
       "313"
      ]
     },
     "execution_count": 18,
     "metadata": {},
     "output_type": "execute_result"
    }
   ],
   "source": [
    "len(test_DL)"
   ]
  },
  {
   "cell_type": "code",
   "execution_count": 19,
   "id": "d8a580a3",
   "metadata": {},
   "outputs": [],
   "source": [
    "from sklearn.metrics import accuracy_score as acc"
   ]
  },
  {
   "cell_type": "code",
   "execution_count": 20,
   "id": "3c153008",
   "metadata": {},
   "outputs": [],
   "source": [
    "class Picture_cl_1(torch.nn.Module):\n",
    "    def __init__(self, inp, out, hidden_units):\n",
    "        super().__init__()\n",
    "        self.conv_1 = torch.nn.Sequential(\n",
    "        torch.nn.Conv2d(in_channels=inp,\n",
    "                       out_channels=hidden_units, kernel_size=3, \n",
    "                        stride=1, padding=1),\n",
    "        torch.nn.ReLU(), \n",
    "        torch.nn.Conv2d(in_channels=hidden_units,\n",
    "                       out_channels=hidden_units, kernel_size=3, \n",
    "                        stride=1, padding=1),\n",
    "        torch.nn.ReLU(),    \n",
    "        torch.nn.MaxPool2d(kernel_size=2))\n",
    "            \n",
    "        self.conv_2 = torch.nn.Sequential(\n",
    "        torch.nn.Conv2d(in_channels=hidden_units,\n",
    "                       out_channels=hidden_units, kernel_size=3, \n",
    "                        stride=1, padding=1),\n",
    "        torch.nn.ReLU(), \n",
    "        torch.nn.Conv2d(in_channels=hidden_units,\n",
    "                       out_channels=hidden_units, kernel_size=3, \n",
    "                        stride=1, padding=1),\n",
    "        torch.nn.ReLU(),    \n",
    "        torch.nn.MaxPool2d(kernel_size=2))\n",
    "        \n",
    "        self.classifier = torch.nn.Sequential(\n",
    "            torch.nn.Flatten(),\n",
    "            torch.nn.Linear(in_features=hidden_units*7*7,\n",
    "                           out_features=out))    \n",
    "        \n",
    "    def forward(self, x):\n",
    "        x = self.conv_1(x)\n",
    "        x = self.conv_2(x)\n",
    "        x = self.classifier(x)\n",
    "        return x"
   ]
  },
  {
   "cell_type": "code",
   "execution_count": 21,
   "id": "bc5b1cdc",
   "metadata": {},
   "outputs": [],
   "source": [
    "torch.manual_seed(15)\n",
    "\n",
    "mod_1 = Picture_cl_1(inp=1, out=len(class_names),\n",
    "                    hidden_units=15)"
   ]
  },
  {
   "cell_type": "code",
   "execution_count": 22,
   "id": "9f4ba79e",
   "metadata": {},
   "outputs": [],
   "source": [
    "loss_fn = torch.nn.CrossEntropyLoss()\n",
    "optimizer = torch.optim.SGD(params=mod_1.parameters(), lr=0.1)"
   ]
  },
  {
   "cell_type": "code",
   "execution_count": 23,
   "id": "444bafcb",
   "metadata": {},
   "outputs": [
    {
     "name": "stdout",
     "output_type": "stream",
     "text": [
      "Epoch: 1 | Loss: 0.5493 | Train_acc: 0.7993| Test_loss: 0.3936 | Test_acc: 0.8520\n",
      "\n",
      "Epoch: 2 | Loss: 0.3375 | Train_acc: 0.8789| Test_loss: 0.3357 | Test_acc: 0.8807\n",
      "\n",
      "Epoch: 3 | Loss: 0.2959 | Train_acc: 0.8930| Test_loss: 0.3096 | Test_acc: 0.8892\n",
      "\n",
      "Epoch: 4 | Loss: 0.2717 | Train_acc: 0.9004| Test_loss: 0.3190 | Test_acc: 0.8851\n",
      "\n",
      "Epoch: 5 | Loss: 0.2566 | Train_acc: 0.9059| Test_loss: 0.2952 | Test_acc: 0.8948\n",
      "\n",
      "Epoch: 6 | Loss: 0.2430 | Train_acc: 0.9122| Test_loss: 0.2657 | Test_acc: 0.9038\n",
      "\n",
      "Epoch: 7 | Loss: 0.2349 | Train_acc: 0.9141| Test_loss: 0.2563 | Test_acc: 0.9082\n",
      "\n",
      "Epoch: 8 | Loss: 0.2258 | Train_acc: 0.9185| Test_loss: 0.2614 | Test_acc: 0.9044\n",
      "\n",
      "Epoch: 9 | Loss: 0.2231 | Train_acc: 0.9190| Test_loss: 0.2623 | Test_acc: 0.9069\n",
      "\n",
      "Epoch: 10 | Loss: 0.2155 | Train_acc: 0.9219| Test_loss: 0.2460 | Test_acc: 0.9123\n",
      "\n"
     ]
    }
   ],
   "source": [
    "epochs = 10\n",
    "\n",
    "for i in range(1, epochs+1):\n",
    "        \n",
    "    train_loss, train_acc = 0, 0\n",
    "    \n",
    "    for x, y in train_DL:\n",
    "        mod_1.train()\n",
    "        y_logits = mod_1(x)\n",
    "        \n",
    "        loss=loss_fn(y_logits, y)\n",
    "        tr_acc= acc(y, y_logits.argmax(dim=1))\n",
    "        train_loss +=loss\n",
    "        train_acc += tr_acc\n",
    "        \n",
    "        optimizer.zero_grad()\n",
    "        loss.backward()\n",
    "        optimizer.step()\n",
    "        \n",
    "    train_loss /= len(train_DL)\n",
    "    train_acc /= len(train_DL)\n",
    "    \n",
    "    test_loss, test_acc = 0, 0\n",
    "    mod_1.eval()\n",
    "    with torch.inference_mode():\n",
    "        for x_test, y_test in test_DL:\n",
    "            test_logits = mod_1(x_test)\n",
    "            \n",
    "            test_loss += loss_fn(test_logits, y_test)\n",
    "            test_acc += acc(y_test, test_logits.argmax(dim=1))\n",
    "            \n",
    "        test_loss /= len(test_DL)\n",
    "        test_acc /= len(test_DL)\n",
    "        \n",
    "    print(f'Epoch: {i} | Loss: {train_loss:.4f} | Train_acc: {train_acc:.4f}| Test_loss: {test_loss:.4f} | Test_acc: {test_acc:.4f}')\n",
    "    print()"
   ]
  },
  {
   "cell_type": "code",
   "execution_count": null,
   "id": "8d1c825b",
   "metadata": {},
   "outputs": [],
   "source": []
  }
 ],
 "metadata": {
  "kernelspec": {
   "display_name": "Python 3 (ipykernel)",
   "language": "python",
   "name": "python3"
  },
  "language_info": {
   "codemirror_mode": {
    "name": "ipython",
    "version": 3
   },
   "file_extension": ".py",
   "mimetype": "text/x-python",
   "name": "python",
   "nbconvert_exporter": "python",
   "pygments_lexer": "ipython3",
   "version": "3.9.12"
  }
 },
 "nbformat": 4,
 "nbformat_minor": 5
}
